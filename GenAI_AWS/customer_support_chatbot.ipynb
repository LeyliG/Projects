{
 "cells": [
  {
   "cell_type": "markdown",
   "id": "1e7e21d6",
   "metadata": {},
   "source": [
    "# Create a Tech Gadget Customer Support Chatbot\n",
    "\n",
    "Imagine you own an online store that sells various tech gadgets. Customers frequently ask about product details, return policies, shipping options, and technical troubleshooting. Instead of handling every question manually, you decide to implement a simple chatbot to provide quick responses.\n",
    "\n",
    "### Your Chatbot Will Handle Queries Like:\n",
    "Product Information: “Tell me about product X”, “Do you have smartwatches?”\n",
    "\n",
    "Shipping Details: “How long does shipping take?”, “What shipping methods are available?”\n",
    "\n",
    "Return Policy: “What is your return policy?”, “How do I return a product?”\n",
    "\n",
    "Technical Support: “My gadget won’t turn on”, “How do I reset my device?”"
   ]
  },
  {
   "cell_type": "markdown",
   "id": "a728f00f",
   "metadata": {},
   "source": [
    "### Run Your Chatbot\n",
    "\n",
    "1. Run the code below to activate the chatbot.\n",
    "\n",
    "2. Type in different customer questions to see how the chatbot responds.\n",
    "\n",
    "3. To exit the chatbot, type \"bye\" or \"exit\"."
   ]
  },
  {
   "cell_type": "code",
   "execution_count": 1,
   "id": "7428c23f",
   "metadata": {},
   "outputs": [
    {
     "name": "stdout",
     "output_type": "stream",
     "text": [
      "Bot: You can return products within 30 days of receipt for a full refund.\n",
      "Bot: I'm not sure how to respond to that. Can you try asking something else?\n",
      "Bot: I'm not sure how to respond to that. Can you try asking something else?\n",
      "Bot: I'm not sure how to respond to that. Can you try asking something else?\n",
      "Bot: Goodbye! If you have any more questions, we're here to help.\n"
     ]
    }
   ],
   "source": [
    "# Simple Customer Support Chatbot\n",
    "\n",
    "responses = {\n",
    "      \"hi\": \"Hello! Welcome to TechGadget Support. How can I assist you today?\",\n",
    "      \"do you have smartwatches\": \"Yes, we have a variety of smartwatches. You can check them out on our products page.\",\n",
    "      \"shipping time\": \"Shipping usually takes 3-5 business days.\",\n",
    "      \"shipping methods\": \"We offer standard, expedited, and overnight shipping.\",\n",
    "      \"return policy\": \"You can return products within 30 days of receipt for a full refund.\",\n",
    "      \"how to return\": \"To return a product, please visit our returns page for a step-by-step guide.\",\n",
    "      \"won’t turn on\": \"Make sure your gadget is charged. If it still won’t turn on, you can visit our troubleshooting page.\",\n",
    "      \"reset device\": \"To reset your device, hold down the power button for 10 seconds. If that doesn't work, please check the manual for a factory reset.\",\n",
    "      \"bye\": \"Thank you for visiting TechGadget. If you have more questions, feel free to ask. Goodbye!\"\n",
    "}\n",
    "\n",
    "def get_bot_response(user_input):\n",
    "      user_input = user_input.lower()\n",
    "\n",
    "      for keyword, response in responses.items():\n",
    "          if keyword in user_input:\n",
    "              return response\n",
    "\n",
    "      return \"I'm not sure how to respond to that. Can you try asking something else?\"\n",
    "\n",
    "while True:\n",
    "      user_input = input(\"You: \")\n",
    "      if user_input.lower() in [\"quit\", \"exit\", \"bye\"]:\n",
    "          print(\"Bot: Goodbye! If you have any more questions, we're here to help.\")\n",
    "          break\n",
    "\n",
    "      response = get_bot_response(user_input)\n",
    "      print(f\"Bot: {response}\")"
   ]
  }
 ],
 "metadata": {
  "kernelspec": {
   "display_name": "ai_agent",
   "language": "python",
   "name": "python3"
  },
  "language_info": {
   "codemirror_mode": {
    "name": "ipython",
    "version": 3
   },
   "file_extension": ".py",
   "mimetype": "text/x-python",
   "name": "python",
   "nbconvert_exporter": "python",
   "pygments_lexer": "ipython3",
   "version": "3.11.9"
  }
 },
 "nbformat": 4,
 "nbformat_minor": 5
}
