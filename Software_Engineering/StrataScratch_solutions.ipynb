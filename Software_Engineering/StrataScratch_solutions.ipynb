{
 "cells": [
  {
   "cell_type": "markdown",
   "metadata": {},
   "source": []
  },
  {
   "cell_type": "markdown",
   "metadata": {},
   "source": [
    "Finding Doctors\n",
    "\n",
    "Interview Question Date: May 2023\n",
    "\n",
    "Google\n",
    "Easy\n",
    "https://platform.stratascratch.com/coding/10356-finding-doctors?code_type=2\n",
    "\n",
    "\n",
    "Find doctors with the last name of 'Johnson' in the employee list. The output should contain both their first and last names."
   ]
  },
  {
   "cell_type": "code",
   "execution_count": null,
   "metadata": {},
   "outputs": [],
   "source": [
    "# Import your libraries\n",
    "import pandas as pd\n",
    "\n",
    "employee_list = employee_list[(employee_list.last_name == \"Johnson\") & \n",
    "                               (employee_list.profession == \"Doctor\")]\n",
    "return employee_list[[\"first_name\",\"last_name\"]]"
   ]
  },
  {
   "cell_type": "markdown",
   "metadata": {},
   "source": [
    "Workers With The Highest Salaries\n",
    "https://platform.stratascratch.com/coding/10353-workers-with-the-highest-salaries?code_type=2\n",
    "\n",
    "Interview Question Date: June 2021\n",
    "\n",
    "Amazon\n",
    "DoorDash\n",
    "Easy\n",
    "\n",
    "You have been asked to find the job titles of the highest-paid employees.\n",
    "\n",
    "Your output should include the highest-paid title or multiple titles with the same salary."
   ]
  },
  {
   "cell_type": "code",
   "execution_count": null,
   "metadata": {},
   "outputs": [],
   "source": [
    "# Import your libraries\n",
    "import pandas as pd\n",
    "\n",
    "# Want: job titles of the highest-paid employees\n",
    "# Output: the highest-paid title or multiple titles with the same salary.\n",
    "worker = worker[ worker.salary == worker.salary.max()]\n",
    "worker = pd.merge(worker, title, left_on='worker_id', right_on='worker_ref_id').rename(columns = {\"worker_title\":\"best_paid_title\" })\n",
    "return worker[\"best_paid_title\"]\n"
   ]
  },
  {
   "cell_type": "markdown",
   "metadata": {},
   "source": [
    "Class Performance\n",
    "https://platform.stratascratch.com/coding/10310-class-performance?code_type=2\n",
    "\n",
    "Interview Question Date: December 2020\n",
    "\n",
    "Box\n",
    "Easy\n",
    "\n",
    "You are given a table containing assignment scores of students in a class. Write a query that identifies the largest difference in total score  of all assignments.\n",
    "Output just the difference in total score (sum of all 3 assignments) between a student with the highest score and a student with the lowest score."
   ]
  },
  {
   "cell_type": "code",
   "execution_count": null,
   "metadata": {},
   "outputs": [],
   "source": [
    "# Import your libraries\n",
    "import pandas as pd\n",
    "\n",
    "box_scores[\"total_score\"] = box_scores[['assignment1', 'assignment2', 'assignment3']].sum(1)\n",
    "\n",
    "return box_scores.total_score.max() - box_scores.total_score.min()\n"
   ]
  },
  {
   "cell_type": "markdown",
   "metadata": {},
   "source": [
    "Salaries Differences\n",
    "https://platform.stratascratch.com/coding/10308-salaries-differences?code_type=2\n",
    "\n",
    "Interview Question Date: November 2020\n",
    "\n",
    "Write a query that calculates the difference between the highest salaries found in the marketing and engineering departments. Output just the absolute difference in salaries.\n",
    "\n"
   ]
  },
  {
   "cell_type": "code",
   "execution_count": null,
   "metadata": {},
   "outputs": [],
   "source": [
    "# Import your libraries\n",
    "import pandas as pd\n",
    "\n",
    "db_dept = db_dept.rename(columns = {\"id\": \"department_id\"})\n",
    "db_employee = pd.merge(db_employee, db_dept, on = \"department_id\")\n",
    "\n",
    "# the difference between the highest salaries in the marketing and engineering departments\n",
    "marketing = db_employee[db_employee.department == \"marketing\"][\"salary\"].max()\n",
    "engineering = db_employee[db_employee.department == \"engineering\"][\"salary\"].max()\n",
    "\n",
    "# Start writing code\n",
    "abs(marketing - engineering)"
   ]
  },
  {
   "cell_type": "markdown",
   "metadata": {},
   "source": [
    "Expensive Projects\n",
    "https://platform.stratascratch.com/coding/10301-expensive-projects?code_type=2\n",
    "\n",
    "Interview Question Date: November 2020\n",
    "\n",
    "Microsoft\n",
    "Easy\n",
    "\n",
    "Given a list of projects and employees mapped to each project, calculate by the amount of project budget allocated to each employee . The output should include the project title and the project budget rounded to the closest integer. Order your list by projects with the highest budget per employee first."
   ]
  },
  {
   "cell_type": "code",
   "execution_count": null,
   "metadata": {},
   "outputs": [],
   "source": [
    "# Import your libraries\n",
    "import pandas as pd\n",
    "\n",
    "ms_projects = ms_projects.rename(columns={\"id\": \"project_id\"})\n",
    "ms_projects = pd.merge( ms_projects , ms_emp_projects, how = \"inner\" , on = [\"project_id\"])\n",
    "\n",
    "budget = ms_projects.groupby(['title','budget'])['emp_id'].size().reset_index()\n",
    "budget[\"ratio\"] = (budget[\"budget\"]/budget[\"emp_id\"]).round(0)\n",
    "return budget[[\"title\", \"ratio\"]]\n"
   ]
  },
  {
   "cell_type": "markdown",
   "metadata": {},
   "source": [
    "Finding Updated Records\n",
    "https://platform.stratascratch.com/coding/10299-finding-updated-records?code_type=2\n",
    "\n",
    "Interview Question Date: November 2020\n",
    "\n",
    "Microsoft\n",
    "Easy\n",
    "\n",
    "We have a table with employees and their salaries, however, some of the records are old and contain outdated salary information. Find the current salary of each employee assuming that salaries increase each year. Output their id, first name, last name, department ID, and current salary. Order your list by employee ID in ascending order."
   ]
  },
  {
   "cell_type": "code",
   "execution_count": null,
   "metadata": {},
   "outputs": [],
   "source": [
    "# Import your libraries\n",
    "import pandas as pd\n",
    "\n",
    "ms_employee_salary\n",
    ".groupby([\"id\", 'first_name', 'last_name', 'department_id'])[\"salary\"]\n",
    ".max()\n",
    ".reset_index()\n",
    ".sort_values('id')"
   ]
  },
  {
   "cell_type": "markdown",
   "metadata": {},
   "source": [
    "Order all countries by the year they first participated in the Olympics\n",
    "\n",
    "https://platform.stratascratch.com/coding/10184-order-all-countries-by-the-year-they-first-participated-in-the-olympics?code_type=2\n",
    "\n",
    "ESPN\n",
    "Easy\n",
    "\n",
    "Order all countries by the year they first participated in the Olympics.\n",
    "\n",
    "\n",
    "Output the National Olympics Committee (NOC) name along with the desired year.\n",
    "\n",
    "\n",
    "Sort records by the year and the NOC in ascending order.\n",
    "\n",
    "\n"
   ]
  },
  {
   "cell_type": "code",
   "execution_count": null,
   "metadata": {},
   "outputs": [],
   "source": [
    "# Import your libraries\n",
    "import pandas as pd\n",
    "\n",
    "olympics = olympics_athletes_events[[\"noc\", \"year\"]]\n",
    "olympics = (\n",
    "    olympics.groupby(\"noc\")[\"year\"].\n",
    "    min().\n",
    "    to_frame(\"first_year\").\n",
    "    reset_index().\n",
    "    sort_values(by = [\"first_year\", \"noc\"], ascending = [True, True])\n",
    "    )"
   ]
  },
  {
   "cell_type": "markdown",
   "metadata": {},
   "source": [
    "Total Cost Of Orders\n",
    "\n",
    "https://platform.stratascratch.com/coding/10183-total-cost-of-orders?code_type=2\n",
    "\n",
    "Interview Question Date: July 2020\n",
    "\n",
    "Find the total cost of each customer's orders. Output customer's id, first name, and the total order cost. Order records by customer's first name alphabetically."
   ]
  },
  {
   "cell_type": "code",
   "execution_count": null,
   "metadata": {},
   "outputs": [],
   "source": [
    "# Import your libraries\n",
    "import pandas as pd\n",
    "\n",
    "customers = customers.rename(columns = {\"id\":\"cust_id\"})\n",
    "customer_orders = pd.merge( customers , orders , how = \"inner\", on = \"cust_id\")\n",
    "# Start writing code\n",
    "customer_orders = (\n",
    "    customer_orders.groupby([\"cust_id\", \"first_name\"])[\"total_order_cost\"]\n",
    "    .sum()\n",
    "    .reset_index()\n",
    "    .sort_values(\"first_name\")\n",
    "    )"
   ]
  },
  {
   "cell_type": "markdown",
   "metadata": {},
   "source": [
    "Bikes Last Used\n",
    "\n",
    "https://platform.stratascratch.com/coding/10176-bikes-last-used?code_type=2\n",
    "\n",
    "Find the last time each bike was in use. Output both the bike number and the date-timestamp of the bike's last use (i.e., the date-time the bike was returned). Order the results by bikes that were most recently used."
   ]
  },
  {
   "cell_type": "code",
   "execution_count": null,
   "metadata": {},
   "outputs": [],
   "source": [
    "# Import your libraries\n",
    "import pandas as pd\n",
    "\n",
    "# Start writing code\n",
    "bike_use = (\n",
    "    dc_bikeshare_q1_2012.groupby([ \"bike_number\" ])[\"end_time\"]\n",
    "    .min()\n",
    "    .reset_index()\n",
    "    .sort_values(\"end_time\", ascending = False)\n",
    "    )"
   ]
  },
  {
   "cell_type": "markdown",
   "metadata": {
    "collapsed": false
   },
   "source": [
    "Aggregate Listening Data\n",
    "\n",
    "Easy: https://platform.stratascratch.com/coding/10367-aggregate-listening-data?code_type=2\n",
    "\n",
    "You're tasked with analyzing a Spotify-like dataset that captures user listening habits.\n",
    "For each user, calculate the total listening time and the count of unique songs they've listened to. In the database duration values are displayed in seconds. Round the total listening duration to the nearest whole minute.\n",
    "\n",
    "\n",
    "The output should contain three columns: 'user_id', 'total_listen_duration', and 'unique_song_count'.\n"
   ]
  },
  {
   "cell_type": "code",
   "execution_count": null,
   "metadata": {},
   "outputs": [],
   "source": [
    "# Import your libraries\n",
    "import pandas as pd\n",
    "\n",
    "# Replacing NaN values with 0 in listen_duration\n",
    "listening_habits['listen_duration'].fillna(0, inplace=True)\n",
    "\n",
    "# aggregate\n",
    "aggregated_habits = listening_habits.groupby(['user_id']).agg(\n",
    "    total_duration = ('listen_duration', 'sum'),\n",
    "    unique_songs = ('song_id', 'nunique')\n",
    ").reset_index()\n",
    "\n",
    "aggregated_habits['total_duration'] = (aggregated_habits['total_duration']/60).round()\n",
    "# Start writing code\n",
    "aggregated_habits"
   ]
  },
  {
   "cell_type": "markdown",
   "metadata": {
    "collapsed": false
   },
   "source": [
    "### Weekly Orders Report\n",
    "\n",
    "Easy: https://platform.stratascratch.com/coding/10363-weekly-orders-report?code_type=2\n",
    "\n",
    "For each week, find the total number of orders. Include only the orders that are from the first quarter of 2023.\n",
    "\n",
    "\n",
    "The output should contain 'week' and 'quantity'."
   ]
  },
  {
   "cell_type": "code",
   "execution_count": null,
   "metadata": {},
   "outputs": [],
   "source": [
    "# Import your libraries\n",
    "import pandas as pd\n",
    "\n",
    "\n",
    "orders_data = orders_analysis.loc[\n",
    "    #(orders_analysis['stage_of_order'] == 'ordered') & \n",
    "    (orders_analysis['week'] <= '2023-03-31 00:00:00')\n",
    "    ]\n",
    "\n",
    "agg_data = (\n",
    "    orders_data.groupby('week')['quantity']\n",
    "    .sum()\n",
    "    .reset_index()\n",
    "    .sort_values('week')\n",
    "    )\n",
    "    \n",
    "agg_data"
   ]
  },
  {
   "cell_type": "markdown",
   "metadata": {},
   "source": [
    "### Top Monthly Sellers\n",
    "\n",
    "Easy: https://platform.stratascratch.com/coding/10362-top-monthly-sellers?code_type=2\n",
    "\n",
    "You are provided with a transactional dataset from Amazon that contains detailed information about sales across different products and marketplaces. Your task is to list the top 3 sellers in each product category for January.\n",
    "\n",
    "\n",
    "The output should contain 'seller_id' , 'total_sales' ,'product_category' , 'market_place', and 'month'.\n",
    "\n",
    "\n",
    "\n"
   ]
  },
  {
   "cell_type": "code",
   "execution_count": null,
   "metadata": {},
   "outputs": [],
   "source": [
    "# Import your libraries\n",
    "import pandas as pd\n",
    "\n",
    "jan_sales = sales_data.loc[\n",
    "    (sales_data['month'] == '2024-01-01') \n",
    "    #& (sales_data['month'] <= '2024-01-31')\n",
    "    ].drop_duplicates()\n",
    "    \n",
    "grouped_sales =  (\n",
    "    jan_sales.groupby(['product_category', 'seller_id' , 'market_place', 'month'], as_index=False)[ 'total_sales']\n",
    "    .sum()\n",
    "    .sort_values(by = ['product_category', 'total_sales'], \n",
    "    ascending = [True, False])\n",
    "    .groupby(['product_category'])\n",
    "    .head(3)\n",
    "    #.reset_index()\n",
    "    )\n",
    "    \n",
    "grouped_sales\n"
   ]
  },
  {
   "cell_type": "markdown",
   "metadata": {},
   "source": [
    "### "
   ]
  },
  {
   "cell_type": "code",
   "execution_count": null,
   "metadata": {},
   "outputs": [],
   "source": []
  }
 ],
 "metadata": {
  "language_info": {
   "name": "python"
  },
  "orig_nbformat": 4
 },
 "nbformat": 4,
 "nbformat_minor": 2
}
