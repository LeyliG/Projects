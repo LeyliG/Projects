{
 "cells": [
  {
   "cell_type": "markdown",
   "metadata": {},
   "source": [
    "## Neetcode Blind 75 problems and solutions\n",
    "\n",
    "https://neetcode.io/practice"
   ]
  },
  {
   "cell_type": "markdown",
   "metadata": {},
   "source": [
    "## Arrays & Hashing\n"
   ]
  },
  {
   "cell_type": "markdown",
   "metadata": {},
   "source": [
    "### 217. Contains Duplicate\n",
    "Easy\n",
    "Given an integer array nums, return true if any value appears at least twice in the array, and return false if every element is distinct.\n",
    "\n",
    "\n",
    "Example 1:\n",
    "\n",
    "Input: nums = [1,2,3,1]\n",
    "Output: true\n",
    "Example 2:\n",
    "\n",
    "Input: nums = [1,2,3,4]\n",
    "Output: false\n",
    "Example 3:\n",
    "\n",
    "Input: nums = [1,1,1,3,3,4,3,2,4,2]\n",
    "Output: true\n",
    " \n",
    "\n",
    "Constraints:\n",
    "\n",
    "1 <= nums.length <= 105\n",
    "-109 <= nums[i] <= 109"
   ]
  },
  {
   "cell_type": "code",
   "execution_count": null,
   "metadata": {},
   "outputs": [],
   "source": [
    "# solution using arrays: 68 ms\n",
    "class Solution:\n",
    "    def containsDuplicate(self, nums: List[int]) -> bool:\n",
    "        exists = [] \n",
    "        for n in range(len(nums)):\n",
    "            if str(nums[n]) in exists:\n",
    "                return True\n",
    "            exists += str(nums[n])\n",
    "        return False\n",
    "    \n",
    "# solution using set: 36 ms\n",
    "class Solution:\n",
    "    def containsDuplicate(self, nums: List[int]) -> bool:\n",
    "        exists = set()\n",
    "        for n in nums:\n",
    "            if n in exists:\n",
    "                return True\n",
    "            exists.add(n)\n",
    "        return False\n",
    "\n",
    "# Solution 3: Beats 80% of users with Python3\n",
    "def containsDuplicate(nums = []):\n",
    "    return len(nums)!=len(set(nums))\n",
    "\n",
    "# Solution 4: using dictionaries\n",
    "def containsDuplicate(nums = []):\n",
    "    counts = dict()\n",
    "    for i in nums:\n",
    "        counts[i] = counts.get(i, 0) + 1\n",
    "    \n",
    "    for i in counts:\n",
    "        #print(counts[i])\n",
    "        if counts[i] > 1:\n",
    "            return True\n",
    "    \n",
    "    return False"
   ]
  },
  {
   "cell_type": "code",
   "execution_count": 115,
   "metadata": {},
   "outputs": [
    {
     "data": {
      "text/plain": [
       "False"
      ]
     },
     "execution_count": 115,
     "metadata": {},
     "output_type": "execute_result"
    }
   ],
   "source": [
    "def containsDuplicate(nums = []):\n",
    "    counts = dict()\n",
    "    for i in nums:\n",
    "        counts[i] = counts.get(i, 0) + 1\n",
    "    \n",
    "    for i in counts:\n",
    "        #print(counts[i])\n",
    "        if counts[i] > 1:\n",
    "            return True\n",
    "    \n",
    "    return False\n",
    "\n",
    "\n",
    "containsDuplicate(nums=[1,2,3,1])"
   ]
  },
  {
   "cell_type": "markdown",
   "metadata": {},
   "source": [
    "### 242. Valid Anagram\n",
    "Easy\n",
    "\n",
    "https://leetcode.com/problems/valid-anagram/description/\n",
    "\n",
    "Given two strings s and t, return true if t is an anagram of s, and false otherwise.\n",
    "\n",
    "An Anagram is a word or phrase formed by rearranging the letters of a different word or phrase, typically using all the original letters exactly once.\n",
    " \n",
    "\n",
    "Example 1:\n",
    "\n",
    "Input: s = \"anagram\", t = \"nagaram\"\n",
    "Output: true\n",
    "Example 2:\n",
    "\n",
    "Input: s = \"rat\", t = \"car\"\n",
    "Output: false\n",
    " \n",
    "\n",
    "Constraints:\n",
    "\n",
    "1 <= s.length, t.length <= 5 * 104\n",
    "s and t consist of lowercase English letters.\n",
    " \n",
    "\n",
    "Follow up: What if the inputs contain Unicode characters? How would you adapt your solution to such a case?"
   ]
  },
  {
   "cell_type": "code",
   "execution_count": null,
   "metadata": {},
   "outputs": [],
   "source": [
    "class Solution:\n",
    "    def isAnagram(self, s: str, t: str) -> bool:\n",
    "        if len(s) != len(t): \n",
    "            return False\n",
    "        else:\n",
    "            # get count of each letter in s\n",
    "            letter_count = dict()\n",
    "            for i in s:\n",
    "                letter_count[i] = letter_count.get(i,0) + 1\n",
    "\n",
    "            # check if the letters in t are present in s, subtract 1 for each\n",
    "            for i in t:\n",
    "                if i in letter_count:\n",
    "                    letter_count[i] -= 1\n",
    "                else:\n",
    "                    return False            # letter is not in t\n",
    "\n",
    "            # if all letter counts are 0, return true: 50 ms\n",
    "            counts = list(letter_count.values())\n",
    "            if(counts.count(0)==len(counts)):\n",
    "                return True\n",
    "\n",
    "            # alternative solution: 34 ms\n",
    "            #return all(count == 0 for count in letter_count.values())   "
   ]
  },
  {
   "cell_type": "markdown",
   "metadata": {},
   "source": [
    "### 1. Two Sum\n",
    "Easy\n",
    "https://leetcode.com/problems/two-sum/\n",
    "\n",
    "Given an array of integers nums and an integer target, return indices of the two numbers such that they add up to target.\n",
    "\n",
    "You may assume that each input would have exactly one solution, and you may not use the same element twice.\n",
    "\n",
    "You can return the answer in any order.\n",
    "\n",
    " \n",
    "\n",
    "Example 1:\n",
    "\n",
    "Input: nums = [2,7,11,15], target = 9\n",
    "Output: [0,1]\n",
    "Explanation: Because nums[0] + nums[1] == 9, we return [0, 1].\n",
    "Example 2:\n",
    "\n",
    "Input: nums = [3,2,4], target = 6\n",
    "Output: [1,2]\n",
    "Example 3:\n",
    "\n",
    "Input: nums = [3,3], target = 6\n",
    "Output: [0,1]\n",
    " \n",
    "\n",
    "Constraints:\n",
    "\n",
    "2 <= nums.length <= 104\n",
    "-109 <= nums[i] <= 109\n",
    "-109 <= target <= 109\n",
    "Only one valid answer exists.\n",
    " \n",
    "\n",
    "Follow-up: Can you come up with an algorithm that is less than O(n2) time complexity?\n"
   ]
  },
  {
   "cell_type": "code",
   "execution_count": null,
   "metadata": {},
   "outputs": [],
   "source": [
    "# solution with arrays: 60+ ms\n",
    "class Solution:\n",
    "    def twoSum(self, nums: List[int], target: int) -> List[int]:\n",
    "        complement = 0\n",
    "        indexes = []\n",
    "        for n in range(len(nums)):\n",
    "            complement = target -nums[n]\n",
    "            # get the index if the complement exists \n",
    "            if complement in nums[(n+1):len(nums)]:\n",
    "                c = [i for i,j in enumerate(nums) if (j==complement and i!=n)]   \n",
    "                indexes += [ n ] + c \n",
    "                #indexes.extend([n,j])\n",
    "                return indexes\n",
    "\n",
    "# solution with dictionary: 48 ms\n",
    "class Solution:\n",
    "    def twoSum(self, nums: List[int], target: int) -> List[int]:\n",
    "        indexes = {}\n",
    "        for i, n in enumerate(nums):\n",
    "            complement = target - n\n",
    "            if complement in indexes:\n",
    "                return [i, indexes[complement]]\n",
    "            # Add the current number and its index to the dictionary\n",
    "            indexes[n] = i\n",
    "        # nothing was found\n",
    "        return None\n",
    "\n"
   ]
  },
  {
   "cell_type": "markdown",
   "metadata": {},
   "source": [
    "### 49. Group Anagrams\n",
    "Medium\n",
    "https://leetcode.com/problems/group-anagrams/\n",
    "\n",
    "Given an array of strings strs, group the anagrams together. You can return the answer in any order.\n",
    "\n",
    "An Anagram is a word or phrase formed by rearranging the letters of a different word or phrase, typically using all the original letters exactly once.\n",
    "\n",
    "Example 1:\n",
    "\n",
    "Input: strs = [\"eat\",\"tea\",\"tan\",\"ate\",\"nat\",\"bat\"]\n",
    "Output: [[\"bat\"],[\"nat\",\"tan\"],[\"ate\",\"eat\",\"tea\"]]\n",
    "Example 2:\n",
    "\n",
    "Input: strs = [\"\"]\n",
    "Output: [[\"\"]]\n",
    "Example 3:\n",
    "\n",
    "Input: strs = [\"a\"]\n",
    "Output: [[\"a\"]]\n",
    " \n",
    "\n",
    "Constraints:\n",
    "\n",
    "1 <= strs.length <= 104\n",
    "0 <= strs[i].length <= 100\n",
    "strs[i] consists of lowercase English letters."
   ]
  },
  {
   "cell_type": "code",
   "execution_count": null,
   "metadata": {},
   "outputs": [],
   "source": []
  },
  {
   "cell_type": "markdown",
   "metadata": {},
   "source": [
    "### 238. Product of Array Except Self\n",
    "Medium\n",
    "https://leetcode.com/problems/product-of-array-except-self/\n",
    "\n",
    "Given an integer array nums, return an array answer such that answer[i] is equal to the product of all the elements of nums except nums[i].\n",
    "\n",
    "The product of any prefix or suffix of nums is guaranteed to fit in a 32-bit integer.\n",
    "\n",
    "You must write an algorithm that runs in O(n) time and without using the division operation.\n",
    "\n",
    " \n",
    "\n",
    "Example 1:\n",
    "\n",
    "Input: nums = [1,2,3,4]\n",
    "Output: [24,12,8,6]\n",
    "Example 2:\n",
    "\n",
    "Input: nums = [-1,1,0,-3,3]\n",
    "Output: [0,0,9,0,0]\n",
    " \n",
    "\n",
    "Constraints:\n",
    "\n",
    "2 <= nums.length <= 105\n",
    "-30 <= nums[i] <= 30\n",
    "The product of any prefix or suffix of nums is guaranteed to fit in a 32-bit integer.\n",
    " "
   ]
  },
  {
   "cell_type": "code",
   "execution_count": null,
   "metadata": {},
   "outputs": [],
   "source": []
  },
  {
   "cell_type": "markdown",
   "metadata": {},
   "source": [
    "### 13. Roman to Integer\n",
    "\n",
    "Easy: https://leetcode.com/problems/roman-to-integer/description/\n",
    "\n",
    "Roman numerals are represented by seven different symbols: I, V, X, L, C, D and M.\n",
    "\n",
    "Symbol       Value\n",
    "{ I =             1;\n",
    "V =             5; \n",
    "X  =           10; \n",
    "L   =          50; \n",
    "C    =         100; \n",
    "D     =        500; \n",
    "M     =       1000 }\n",
    "\n",
    "For example, 2 is written as II in Roman numeral, just two ones added together. 12 is written as XII, which is simply X + II. The number 27 is written as XXVII, which is XX + V + II.\n",
    "\n",
    "Roman numerals are usually written largest to smallest from left to right. However, the numeral for four is not IIII. Instead, the number four is written as IV. Because the one is before the five we subtract it making four. The same principle applies to the number nine, which is written as IX. There are six instances where subtraction is used:\n",
    "\n",
    "I can be placed before V (5) and X (10) to make 4 and 9. \n",
    "X can be placed before L (50) and C (100) to make 40 and 90. \n",
    "C can be placed before D (500) and M (1000) to make 400 and 900.\n",
    "Given a roman numeral, convert it to an integer."
   ]
  },
  {
   "cell_type": "code",
   "execution_count": 73,
   "metadata": {},
   "outputs": [
    {
     "name": "stdout",
     "output_type": "stream",
     "text": [
      "1901\n",
      "58\n",
      "1\n",
      "1000\n",
      "100\n",
      "1000\n",
      "1901\n"
     ]
    }
   ],
   "source": [
    "# Solution 1: using while loop\n",
    "def romanToInt(s = \"\"):\n",
    "    roman_dict = {\n",
    "        \"I\": 1 ,\n",
    "        \"V\": 5,\n",
    "        \"X\": 10,\n",
    "        \"L\": 50,\n",
    "        \"C\": 100, \n",
    "        \"D\": 500, \n",
    "        \"M\": 1000\n",
    "    }\n",
    "\n",
    "    total_sum = 0\n",
    "    val = 0 \n",
    "    c = 0\n",
    "\n",
    "    while c < len(s)-1:\n",
    "        #print(roman_dict[s[c]])\n",
    "\n",
    "        if roman_dict[s[c]] < roman_dict[s[c+1]]:\n",
    "            val = roman_dict[s[c+1]] - roman_dict[s[c]]\n",
    "            c += 2\n",
    "        else:\n",
    "            val = roman_dict[s[c]] \n",
    "            c += 1\n",
    "\n",
    "        total_sum += val       \n",
    "        #print(val, total_sum)\n",
    "    \n",
    "    if c < len(s):\n",
    "        total_sum += roman_dict[s[c]]\n",
    "\n",
    "    return total_sum\n",
    "    \n",
    "    #print(val, total_sum)\n",
    "\n",
    "print(romanToInt(s = \"MCMI\"))\n",
    "print(romanToInt(s = \"LVIII\"))\n",
    "\n",
    "\n",
    "# Solution 2: using for loop\n",
    "def romanToInt(s = \"\"):\n",
    "    roman_dict = {\n",
    "        \"I\": 1 ,\n",
    "        \"V\": 5,\n",
    "        \"X\": 10,\n",
    "        \"L\": 50,\n",
    "        \"C\": 100, \n",
    "        \"D\": 500, \n",
    "        \"M\": 1000\n",
    "    }\n",
    "\n",
    "    total_sum = 0\n",
    "    val = 0 \n",
    "\n",
    "    for c in s[::-1]:\n",
    "        #print(c)\n",
    "        if roman_dict[c] < val:\n",
    "                total_sum -= roman_dict[c]\n",
    "        else:\n",
    "            total_sum += roman_dict[c]\n",
    "        val = roman_dict[c]\n",
    "        #print(val)\n",
    "    \n",
    "    return total_sum\n",
    "\n",
    "print(romanToInt(s = \"MCMI\"))\n",
    "#print(romanToInt(s = \"LVIII\"))\n"
   ]
  },
  {
   "cell_type": "markdown",
   "metadata": {},
   "source": [
    "### 1768. Merge Strings Alternately\n",
    "\n",
    "Easy: https://leetcode.com/problems/merge-strings-alternately/description/?envType=study-plan-v2&envId=leetcode-75\n",
    "\n",
    "You are given two strings word1 and word2. Merge the strings by adding letters in alternating order, starting with word1. If a string is longer than the other, append the additional letters onto the end of the merged string.\n",
    "\n",
    "Return the merged string.\n",
    "\n"
   ]
  },
  {
   "cell_type": "code",
   "execution_count": 42,
   "metadata": {},
   "outputs": [
    {
     "data": {
      "text/plain": [
       "'apbqcrd'"
      ]
     },
     "execution_count": 42,
     "metadata": {},
     "output_type": "execute_result"
    }
   ],
   "source": [
    "# Solution 1: String manipulation\n",
    "def mergeAlternately( word1=\"\", word2 = \"\"):\n",
    "    new_word = \"\"\n",
    "    min_len = min(len(word1), len(word2))\n",
    "\n",
    "    # get the ending of the longest word if the string sizes differ\n",
    "    if len(word1) > len(word2):\n",
    "        ending = word1[min_len::]\n",
    "    elif len(word1) < len(word2):    \n",
    "        ending = word2[min_len::]\n",
    "    else:\n",
    "        ending = \"\"\n",
    "\n",
    "    # loop through the strings and add to the new merged word\n",
    "    for i in range(min_len):\n",
    "        new_word += word1[i]+word2[i]\n",
    "\n",
    "    # add the ending/remainder of the longer string \n",
    "    new_word += ending\n",
    "    return new_word\n",
    "\n",
    "\n",
    "# Solution 2: String manipulation - Trimmed\n",
    "def mergeAlternately( word1=\"\", word2 = \"\"):\n",
    "        new_word = \"\"\n",
    "        min_len = min(len(word1), len(word2))\n",
    "\n",
    "        for i in range(min_len):\n",
    "            new_word += word1[i] + word2[i]\n",
    "        \n",
    "        new_word += word1[min_len:] + word2[min_len:]\n",
    "\n",
    "        return new_word\n",
    "\n",
    "\n",
    "\n",
    "# Solution 3: Lists\n",
    "def mergeAlternately( word1=\"\", word2 = \"\"):\n",
    "    min_len = min(len(word1), len(word2))\n",
    "    new_word = []\n",
    "\n",
    "    for i in range(min_len):\n",
    "        new_word.extend((word1[i], word2[i]))\n",
    "\n",
    "    new_word.extend((word1[min_len:], word2[min_len:]))\n",
    "    return \"\".join(new_word)\n",
    "\n",
    "\n",
    "mergeAlternately(word1 = \"abcd\", word2 = \"pqr\")\n"
   ]
  },
  {
   "cell_type": "markdown",
   "metadata": {},
   "source": [
    "### 1431. Kids With the Greatest Number of Candies\n",
    "\n",
    "Easy: https://leetcode.com/problems/kids-with-the-greatest-number-of-candies/description/?envType=study-plan-v2&envId=leetcode-75\n",
    "\n",
    "There are n kids with candies. You are given an integer array candies, where each candies[i] represents the number of candies the ith kid has, and an integer extraCandies, denoting the number of extra candies that you have.\n",
    "\n",
    "Return a boolean array result of length n, where result[i] is true if, after giving the ith kid all the extraCandies, they will have the greatest number of candies among all the kids, or false otherwise.\n",
    "\n",
    "Note that multiple kids can have the greatest number of candies.\n",
    "\n",
    "Input: candies = [2,3,5,1,3], extraCandies = 3\n",
    "\n",
    "Output: [true,true,true,false,true] \n",
    "\n",
    "Explanation: If you give all extraCandies to:\n",
    "- Kid 1, they will have 2 + 3 = 5 candies, which is the greatest among the kids.\n",
    "- Kid 2, they will have 3 + 3 = 6 candies, which is the greatest among the kids.\n",
    "- Kid 3, they will have 5 + 3 = 8 candies, which is the greatest among the kids.\n",
    "- Kid 4, they will have 1 + 3 = 4 candies, which is not the greatest among the kids.\n",
    "- Kid 5, they will have 3 + 3 = 6 candies, which is the greatest among the kids.\n",
    "\n"
   ]
  },
  {
   "cell_type": "code",
   "execution_count": 68,
   "metadata": {},
   "outputs": [],
   "source": [
    "# Solution 1:\n",
    "def kidsWithCandies(candies = [], extraCandies = 0):\n",
    "    more_candies = [i + extraCandies for i in candies]\n",
    "    max_candies = max(candies)\n",
    "    bool_candies = [True if i >= max_candies else False for i in more_candies]\n",
    "\n",
    "    return bool_candies\n",
    "\n",
    "# Solution 2: Beats 97.39% of users with Python3\n",
    "def kidsWithCandies(candies = [], extraCandies = 0):\n",
    "    max_candies = max(candies)\n",
    "    bool_candies = []\n",
    "\n",
    "    for i in range(len(candies)):\n",
    "        if (candies[i] + extraCandies) >= max_candies:\n",
    "            bool_candies += [True]\n",
    "        else: \n",
    "            bool_candies += [False]\n",
    "\n",
    "    return bool_candies\n",
    "\n",
    "# Solution 3:\n",
    "def kidsWithCandies(candies = [], extraCandies = 0):\n",
    "    max_candies = max(candies)\n",
    "    bool_candies = []\n",
    "\n",
    "    for i in range(len(candies)): \n",
    "        bool_candy = [candies[i] + extraCandies >= max_candies]\n",
    "        bool_candies += bool_candy\n",
    "    \n",
    "    return bool_candies\n",
    "\n"
   ]
  },
  {
   "cell_type": "code",
   "execution_count": 69,
   "metadata": {},
   "outputs": [
    {
     "data": {
      "text/plain": [
       "[True, True, True, False, True]"
      ]
     },
     "execution_count": 69,
     "metadata": {},
     "output_type": "execute_result"
    }
   ],
   "source": [
    "kidsWithCandies(candies = [2,3,5,1, 3], extraCandies = 3)"
   ]
  },
  {
   "cell_type": "markdown",
   "metadata": {},
   "source": [
    "### 605. Can Place Flowers\n",
    "\n",
    "Easy: https://leetcode.com/problems/can-place-flowers/description/?envType=study-plan-v2&envId=leetcode-75\n",
    "\n",
    "You have a long flowerbed in which some of the plots are planted, and some are not. However, flowers cannot be planted in adjacent plots.\n",
    "\n",
    "Given an integer array flowerbed containing 0's and 1's, where 0 means empty and 1 means not empty, and an integer n, return true if n new flowers can be planted in the flowerbed without violating the no-adjacent-flowers rule and false otherwise.\n",
    "\n",
    " \n",
    "\n",
    "Example 1:\n",
    "\n",
    "Input: flowerbed = [1,0,0,0,1], n = 1\n",
    "\n",
    "Output: true\n",
    "\n"
   ]
  },
  {
   "cell_type": "code",
   "execution_count": 99,
   "metadata": {},
   "outputs": [],
   "source": [
    "def canPlaceFlowers(flowerbed = [], n= 0 ):\n",
    "    len_fb = len(flowerbed)\n",
    "    c = 0\n",
    "\n",
    "    while c < len_fb:\n",
    "        # if current plot is empty:\n",
    "        if flowerbed[c] == 0:\n",
    "            # get the  next plot value \n",
    "            next_p = 0 if c >= len_fb - 1 else flowerbed[c+1]\n",
    "\n",
    "            # if the next plot value is 0 reduce n by 1 and skip the next plot\n",
    "            if next_p == 0:\n",
    "                n -= 1\n",
    "                c += 2\n",
    "            # else move to the next plot\n",
    "            else:\n",
    "                c += 1\n",
    "            # return true once all plants are plotted without reaching the end of the flowerbed\n",
    "            if n ==0: return True\n",
    "        # else skip 2 plots ahead\n",
    "        else:\n",
    "            c += 2\n",
    "            \n",
    "    # return T/F depending on whether all plants have been planted\n",
    "    return n <= 0\n",
    "\n",
    "        \n",
    "\n",
    "    "
   ]
  },
  {
   "cell_type": "code",
   "execution_count": 100,
   "metadata": {},
   "outputs": [
    {
     "data": {
      "text/plain": [
       "True"
      ]
     },
     "execution_count": 100,
     "metadata": {},
     "output_type": "execute_result"
    }
   ],
   "source": [
    "#canPlaceFlowers(flowerbed = [1,0,0,0,1], n= 1 )\n",
    "canPlaceFlowers(flowerbed = [0,0,1,0,1], n= 1 )\n"
   ]
  },
  {
   "cell_type": "markdown",
   "metadata": {},
   "source": [
    "## 1002. Find Common Characters\n",
    "\n",
    "Easy: https://leetcode.com/problems/find-common-characters/description/?envType=daily-question&envId=2024-06-05\n",
    "\n",
    "Given a string array words, return an array of all characters that show up in all strings within the words (including duplicates). You may return the answer in any order.\n",
    "\n",
    "\n",
    "Example 1:\n",
    "\n",
    "Input: words = [\"bella\",\"label\",\"roller\"]\n",
    "\n",
    "Output: [\"e\",\"l\",\"l\"]\n",
    "\n"
   ]
  },
  {
   "cell_type": "code",
   "execution_count": 183,
   "metadata": {},
   "outputs": [
    {
     "data": {
      "text/plain": [
       "['c']"
      ]
     },
     "execution_count": 183,
     "metadata": {},
     "output_type": "execute_result"
    }
   ],
   "source": [
    "# Solution\n",
    "\n",
    "def commonChars(words=[]):\n",
    "    # use the sets to create a dictionary\n",
    "    words_dict = dict()\n",
    "\n",
    "    for word in words:\n",
    "        for char in word:\n",
    "            if char in words_dict:\n",
    "                words_dict[char] += 1\n",
    "            else: \n",
    "                words_dict[char] = 1\n",
    "    \n",
    "    # Filter out dictionary elements with values greater than = to len(words) list\n",
    "    words_dict_filter = {char: count for char, count in words_dict.items() if count >= len(words)}\n",
    "\n",
    "    # Extract keys from the filtered dictionary and store them in a list\n",
    "    output_list = []\n",
    "    for char, count in words_dict_filter.items():\n",
    "        div = count // len(words)\n",
    "        if count == len(words):\n",
    "            output_list.append(char)\n",
    "        elif count > len(words) and div == len(words):\n",
    "            multiplier = int(div)\n",
    "            output_list.extend([char] * multiplier)\n",
    "    \n",
    "    #print(words_dict_filter)\n",
    "    return output_list\n",
    "\n",
    "\n",
    "commonChars(words=[\"bella\",\"label\",\"roller\"])\n",
    "commonChars(words=[\"acabcddd\",\"bcbdbcbd\",\"baddbadb\",\"cbdddcac\",\"aacbcccd\",\"ccccddda\",\"cababaab\",\"addcaccd\"])\n",
    "\n",
    "commonChars( [\"cool\",\"lock\",\"cook\"] )"
   ]
  },
  {
   "cell_type": "code",
   "execution_count": 181,
   "metadata": {},
   "outputs": [
    {
     "data": {
      "text/plain": [
       "2"
      ]
     },
     "execution_count": 181,
     "metadata": {},
     "output_type": "execute_result"
    }
   ],
   "source": [
    "words = [\"bella\",\"label\",\"roller\"]\n",
    "\n",
    "#print(words_set)  \n",
    "#words_set.count('l')\n",
    "\n",
    "int(9 / len(words))\n",
    "6 // len(words)\n"
   ]
  },
  {
   "cell_type": "markdown",
   "metadata": {},
   "source": [
    "## 846. Hand of Straights\n",
    "\n",
    "Medium: https://leetcode.com/problems/hand-of-straights/description/?envType=daily-question&envId=2024-06-06\n",
    "\n",
    "Alice has some number of cards and she wants to rearrange the cards into groups so that each group is of size groupSize, and consists of groupSize consecutive cards.\n",
    "\n",
    "Given an integer array hand where hand[i] is the value written on the ith card and an integer groupSize, return true if she can rearrange the cards, or false otherwise.\n",
    "\n",
    "\n",
    "Example 1:\n",
    "\n",
    "Input: hand = [1,2,3,6,2,3,4,7,8], groupSize = 3\n",
    "\n",
    "Output: true\n",
    "\n",
    "Explanation: Alice's hand can be rearranged as [1,2,3],[2,3,4],[6,7,8]\n",
    "\n",
    "## 1296. Divide Array in Sets of K Consecutive Numbers\n",
    "\n",
    "Medium: https://leetcode.com/problems/divide-array-in-sets-of-k-consecutive-numbers/description/\n",
    "\n",
    "Given an array of integers nums and a positive integer k, check whether it is possible to divide this array into sets of k consecutive numbers.\n",
    "\n",
    "Return true if it is possible. Otherwise, return false.\n",
    "\n"
   ]
  },
  {
   "cell_type": "code",
   "execution_count": 128,
   "metadata": {},
   "outputs": [],
   "source": [
    "# Solution : \n",
    "def isNStraightHand(hand=[], groupSize=0):\n",
    "    div = len(hand)/groupSize\n",
    "\n",
    "    if not (div).is_integer(): \n",
    "        return False\n",
    "    else: \n",
    "        return 1+1\n",
    "\n",
    "\n",
    "\n"
   ]
  },
  {
   "cell_type": "code",
   "execution_count": 129,
   "metadata": {},
   "outputs": [
    {
     "data": {
      "text/plain": [
       "2"
      ]
     },
     "execution_count": 129,
     "metadata": {},
     "output_type": "execute_result"
    }
   ],
   "source": [
    "isNStraightHand( hand = [8,10,12] , groupSize= 3)"
   ]
  },
  {
   "cell_type": "code",
   "execution_count": 130,
   "metadata": {},
   "outputs": [
    {
     "ename": "NameError",
     "evalue": "name 'Counter' is not defined",
     "output_type": "error",
     "traceback": [
      "\u001b[0;31m---------------------------------------------------------------------------\u001b[0m",
      "\u001b[0;31mNameError\u001b[0m                                 Traceback (most recent call last)",
      "Cell \u001b[0;32mIn[130], line 8\u001b[0m\n\u001b[1;32m      3\u001b[0m div \u001b[38;5;241m=\u001b[39m \u001b[38;5;28mlen\u001b[39m(h)\u001b[38;5;241m/\u001b[39mgS\n\u001b[1;32m      5\u001b[0m \u001b[38;5;66;03m#print(div)\u001b[39;00m\n\u001b[1;32m      6\u001b[0m \u001b[38;5;66;03m#print((div).is_integer() and div==gS)\u001b[39;00m\n\u001b[0;32m----> 8\u001b[0m \u001b[43mCounter\u001b[49m(h)\n",
      "\u001b[0;31mNameError\u001b[0m: name 'Counter' is not defined"
     ]
    }
   ],
   "source": [
    "h = [1,2,3,4,9,7]\n",
    "gS = 3\n",
    "div = len(h)/gS\n",
    "\n",
    "#print(div)\n",
    "#print((div).is_integer() and div==gS)\n",
    "\n",
    "Counter(h)"
   ]
  },
  {
   "cell_type": "markdown",
   "metadata": {},
   "source": [
    "### 1071. Greatest Common Divisor of Strings\n",
    "\n",
    "Easy: https://leetcode.com/problems/greatest-common-divisor-of-strings/description/?envType=study-plan-v2&envId=leetcode-75\n",
    "\n",
    "For two strings s and t, we say \"t divides s\" if and only if s = t + t + t + ... + t + t (i.e., t is concatenated with itself one or more times).\n",
    "\n",
    "Given two strings str1 and str2, return the largest string x such that x divides both str1 and str2.\n",
    "\n",
    "\n"
   ]
  },
  {
   "cell_type": "code",
   "execution_count": null,
   "metadata": {},
   "outputs": [],
   "source": [
    "#\n",
    "def gcdOfStrings(str1 = \"\", str2 = \"\"):\n",
    "    \n",
    "\n"
   ]
  }
 ],
 "metadata": {
  "kernelspec": {
   "display_name": "Python 3",
   "language": "python",
   "name": "python3"
  },
  "language_info": {
   "codemirror_mode": {
    "name": "ipython",
    "version": 3
   },
   "file_extension": ".py",
   "mimetype": "text/x-python",
   "name": "python",
   "nbconvert_exporter": "python",
   "pygments_lexer": "ipython3",
   "version": "3.11.4"
  },
  "orig_nbformat": 4
 },
 "nbformat": 4,
 "nbformat_minor": 2
}
