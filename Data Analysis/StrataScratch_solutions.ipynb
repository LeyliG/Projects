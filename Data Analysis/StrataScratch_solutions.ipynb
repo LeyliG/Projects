{
 "cells": [
  {
   "cell_type": "markdown",
   "metadata": {},
   "source": []
  },
  {
   "cell_type": "markdown",
   "metadata": {},
   "source": [
    "Finding Doctors\n",
    "\n",
    "Interview Question Date: May 2023\n",
    "\n",
    "Google\n",
    "Easy\n",
    "https://platform.stratascratch.com/coding/10356-finding-doctors?code_type=2\n",
    "\n",
    "\n",
    "Find doctors with the last name of 'Johnson' in the employee list. The output should contain both their first and last names."
   ]
  },
  {
   "cell_type": "code",
   "execution_count": null,
   "metadata": {},
   "outputs": [],
   "source": [
    "# Import your libraries\n",
    "import pandas as pd\n",
    "\n",
    "employee_list = employee_list[(employee_list.last_name == \"Johnson\") & \n",
    "                               (employee_list.profession == \"Doctor\")]\n",
    "return employee_list[[\"first_name\",\"last_name\"]]"
   ]
  },
  {
   "cell_type": "markdown",
   "metadata": {},
   "source": [
    "Workers With The Highest Salaries\n",
    "https://platform.stratascratch.com/coding/10353-workers-with-the-highest-salaries?code_type=2\n",
    "\n",
    "Interview Question Date: June 2021\n",
    "\n",
    "Amazon\n",
    "DoorDash\n",
    "Easy\n",
    "\n",
    "You have been asked to find the job titles of the highest-paid employees.\n",
    "\n",
    "Your output should include the highest-paid title or multiple titles with the same salary."
   ]
  },
  {
   "cell_type": "code",
   "execution_count": null,
   "metadata": {},
   "outputs": [],
   "source": [
    "# Import your libraries\n",
    "import pandas as pd\n",
    "\n",
    "# Want: job titles of the highest-paid employees\n",
    "# Output: the highest-paid title or multiple titles with the same salary.\n",
    "worker = worker[ worker.salary == worker.salary.max()]\n",
    "worker = pd.merge(worker, title, left_on='worker_id', right_on='worker_ref_id').rename(columns = {\"worker_title\":\"best_paid_title\" })\n",
    "return worker[\"best_paid_title\"]\n"
   ]
  },
  {
   "cell_type": "markdown",
   "metadata": {},
   "source": [
    "Class Performance\n",
    "https://platform.stratascratch.com/coding/10310-class-performance?code_type=2\n",
    "\n",
    "Interview Question Date: December 2020\n",
    "\n",
    "Box\n",
    "Easy\n",
    "\n",
    "You are given a table containing assignment scores of students in a class. Write a query that identifies the largest difference in total score  of all assignments.\n",
    "Output just the difference in total score (sum of all 3 assignments) between a student with the highest score and a student with the lowest score."
   ]
  },
  {
   "cell_type": "code",
   "execution_count": null,
   "metadata": {},
   "outputs": [],
   "source": [
    "# Import your libraries\n",
    "import pandas as pd\n",
    "\n",
    "box_scores[\"total_score\"] = box_scores[['assignment1', 'assignment2', 'assignment3']].sum(1)\n",
    "\n",
    "return box_scores.total_score.max() - box_scores.total_score.min()\n"
   ]
  },
  {
   "cell_type": "markdown",
   "metadata": {},
   "source": [
    "Salaries Differences\n",
    "https://platform.stratascratch.com/coding/10308-salaries-differences?code_type=2\n",
    "\n",
    "Interview Question Date: November 2020\n",
    "\n",
    "Write a query that calculates the difference between the highest salaries found in the marketing and engineering departments. Output just the absolute difference in salaries.\n",
    "\n"
   ]
  },
  {
   "cell_type": "code",
   "execution_count": null,
   "metadata": {},
   "outputs": [],
   "source": [
    "# Import your libraries\n",
    "import pandas as pd\n",
    "\n",
    "db_dept = db_dept.rename(columns = {\"id\": \"department_id\"})\n",
    "db_employee = pd.merge(db_employee, db_dept, on = \"department_id\")\n",
    "\n",
    "# the difference between the highest salaries in the marketing and engineering departments\n",
    "marketing = db_employee[db_employee.department == \"marketing\"][\"salary\"].max()\n",
    "engineering = db_employee[db_employee.department == \"engineering\"][\"salary\"].max()\n",
    "\n",
    "# Start writing code\n",
    "abs(marketing - engineering)"
   ]
  },
  {
   "cell_type": "markdown",
   "metadata": {},
   "source": [
    "Expensive Projects\n",
    "https://platform.stratascratch.com/coding/10301-expensive-projects?code_type=2\n",
    "\n",
    "Interview Question Date: November 2020\n",
    "\n",
    "Microsoft\n",
    "Easy\n",
    "\n",
    "Given a list of projects and employees mapped to each project, calculate by the amount of project budget allocated to each employee . The output should include the project title and the project budget rounded to the closest integer. Order your list by projects with the highest budget per employee first."
   ]
  },
  {
   "cell_type": "code",
   "execution_count": null,
   "metadata": {},
   "outputs": [],
   "source": [
    "# Import your libraries\n",
    "import pandas as pd\n",
    "\n",
    "ms_projects = ms_projects.rename(columns={\"id\": \"project_id\"})\n",
    "ms_projects = pd.merge( ms_projects , ms_emp_projects, how = \"inner\" , on = [\"project_id\"])\n",
    "\n",
    "budget = ms_projects.groupby(['title','budget'])['emp_id'].size().reset_index()\n",
    "budget[\"ratio\"] = (budget[\"budget\"]/budget[\"emp_id\"]).round(0)\n",
    "return budget[[\"title\", \"ratio\"]]\n"
   ]
  },
  {
   "cell_type": "markdown",
   "metadata": {},
   "source": [
    "Finding Updated Records\n",
    "https://platform.stratascratch.com/coding/10299-finding-updated-records?code_type=2\n",
    "\n",
    "Interview Question Date: November 2020\n",
    "\n",
    "Microsoft\n",
    "Easy\n",
    "\n",
    "We have a table with employees and their salaries, however, some of the records are old and contain outdated salary information. Find the current salary of each employee assuming that salaries increase each year. Output their id, first name, last name, department ID, and current salary. Order your list by employee ID in ascending order."
   ]
  },
  {
   "cell_type": "code",
   "execution_count": null,
   "metadata": {},
   "outputs": [],
   "source": [
    "# Import your libraries\n",
    "import pandas as pd\n",
    "\n",
    "ms_employee_salary.groupby([\"id\", 'first_name', 'last_name', 'department_id'])[\"salary\"].max().reset_index().sort_values('id')"
   ]
  },
  {
   "cell_type": "markdown",
   "metadata": {},
   "source": [
    "Order all countries by the year they first participated in the Olympics\n",
    "\n",
    "https://platform.stratascratch.com/coding/10184-order-all-countries-by-the-year-they-first-participated-in-the-olympics?code_type=2\n",
    "\n",
    "ESPN\n",
    "Easy\n",
    "\n",
    "Order all countries by the year they first participated in the Olympics.\n",
    "\n",
    "\n",
    "Output the National Olympics Committee (NOC) name along with the desired year.\n",
    "\n",
    "\n",
    "Sort records by the year and the NOC in ascending order.\n",
    "\n",
    "\n"
   ]
  },
  {
   "cell_type": "code",
   "execution_count": null,
   "metadata": {},
   "outputs": [],
   "source": [
    "# Import your libraries\n",
    "import pandas as pd\n",
    "\n",
    "olympics = olympics_athletes_events[[\"noc\", \"year\"]]\n",
    "olympics = (\n",
    "    olympics.groupby(\"noc\")[\"year\"].\n",
    "    min().\n",
    "    to_frame(\"first_year\").\n",
    "    reset_index().\n",
    "    sort_values(by = [\"first_year\", \"noc\"], ascending = [True, True])\n",
    "    )"
   ]
  },
  {
   "cell_type": "markdown",
   "metadata": {},
   "source": [
    "Total Cost Of Orders\n",
    "\n",
    "https://platform.stratascratch.com/coding/10183-total-cost-of-orders?code_type=2\n",
    "\n",
    "Interview Question Date: July 2020\n",
    "\n",
    "Find the total cost of each customer's orders. Output customer's id, first name, and the total order cost. Order records by customer's first name alphabetically."
   ]
  },
  {
   "cell_type": "code",
   "execution_count": null,
   "metadata": {},
   "outputs": [],
   "source": [
    "# Import your libraries\n",
    "import pandas as pd\n",
    "\n",
    "customers = customers.rename(columns = {\"id\":\"cust_id\"})\n",
    "customer_orders = pd.merge( customers , orders , how = \"inner\", on = \"cust_id\")\n",
    "# Start writing code\n",
    "customer_orders = (\n",
    "    customer_orders.groupby([\"cust_id\", \"first_name\"])[\"total_order_cost\"]\n",
    "    .sum()\n",
    "    .reset_index()\n",
    "    .sort_values(\"first_name\")\n",
    "    )"
   ]
  },
  {
   "cell_type": "markdown",
   "metadata": {},
   "source": [
    "Bikes Last Used\n",
    "\n",
    "https://platform.stratascratch.com/coding/10176-bikes-last-used?code_type=2\n",
    "\n",
    "Find the last time each bike was in use. Output both the bike number and the date-timestamp of the bike's last use (i.e., the date-time the bike was returned). Order the results by bikes that were most recently used."
   ]
  },
  {
   "cell_type": "code",
   "execution_count": null,
   "metadata": {},
   "outputs": [],
   "source": [
    "# Import your libraries\n",
    "import pandas as pd\n",
    "\n",
    "# Start writing code\n",
    "bike_use = (\n",
    "    dc_bikeshare_q1_2012.groupby([ \"bike_number\" ])[\"end_time\"]\n",
    "    .min()\n",
    "    .reset_index()\n",
    "    .sort_values(\"end_time\", ascending = False)\n",
    "    )"
   ]
  },
  {
   "cell_type": "markdown",
   "metadata": {},
   "source": [
    "Gender With Most Doctor Appointments\n",
    "\n",
    "https://platform.stratascratch.com/coding/10170-gender-with-most-doctor-appointments?code_type=2\n",
    "\n",
    "Find the gender that has made the most number of doctor appointments.\n",
    "Output the gender along with the corresponding number of appointments."
   ]
  },
  {
   "cell_type": "code",
   "execution_count": null,
   "metadata": {},
   "outputs": [],
   "source": [
    "# Import your libraries\n",
    "import pandas as pd\n",
    "\n",
    "# Start writing code\n",
    "totals = (\n",
    "    medical_appointments.groupby(\"gender\")[\"appointmentid\"]\n",
    "    .size() # .count()\n",
    "    .to_frame(\"total_appointments\")\n",
    "    .reset_index()\n",
    "    .sort_values(\"total_appointments\", ascending = False)\n",
    "    .head(1)\n",
    "    )"
   ]
  },
  {
   "cell_type": "markdown",
   "metadata": {},
   "source": [
    "Number Of Records By Variety\n",
    "\n",
    "https://platform.stratascratch.com/coding/10168-number-of-records-by-variety?code_type=2\n",
    "\n",
    "Find the total number of records that belong to each variety in the dataset. Output the variety along with the corresponding number of records. Order records by the variety in ascending order."
   ]
  },
  {
   "cell_type": "code",
   "execution_count": null,
   "metadata": {},
   "outputs": [],
   "source": [
    "# Import your libraries\n",
    "import pandas as pd\n",
    "\n",
    "# Start writing code\n",
    "records = (\n",
    "    iris.groupby('variety')\n",
    "    .size()\n",
    "    .to_frame(\"total_records\")\n",
    "    .reset_index()\n",
    "    .sort_values('variety')\n",
    "    )"
   ]
  },
  {
   "cell_type": "markdown",
   "metadata": {},
   "source": [
    "Most Profitable Companies\n",
    "\n",
    "https://platform.stratascratch.com/coding/10354-most-profitable-companies?code_type=2\n",
    "\n",
    "Forbes\n",
    "Medium\n",
    "\n",
    "Find the 3 most profitable companies in the entire world.\n",
    "Output the result along with the corresponding company name.\n",
    "Sort the result based on profits in descending order.\n"
   ]
  },
  {
   "cell_type": "code",
   "execution_count": null,
   "metadata": {},
   "outputs": [],
   "source": [
    "# Import your libraries\n",
    "import pandas as pd\n",
    "\n",
    "# easy solution when each company has one record\n",
    "profits = (\n",
    "    forbes_global_2010_2014[[\"company\", \"profits\"]]\n",
    "    .sort_values(\"profits\", ascending = False)\n",
    "    .head(3)\n",
    "    )\n",
    "\n",
    "# medium solution for multiple entries\n",
    "profits = (\n",
    "    forbes_global_2010_2014[[\"company\", \"profits\"]]\n",
    "    .groupby('company')\n",
    "    .sum()\n",
    "    .reset_index()\n",
    "    .sort_values(\"profits\", ascending = False)\n",
    "    .head(3)\n",
    "    )"
   ]
  },
  {
   "cell_type": "markdown",
   "metadata": {},
   "source": [
    "Activity Rank\n",
    "\n",
    "https://platform.stratascratch.com/coding/10351-activity-rank?code_type=2\n",
    "\n",
    "Google\n",
    "Medium\n",
    "\n",
    "Find the email activity rank for each user. Email activity rank is defined by the total number of emails sent. The user with the highest number of emails sent will have a rank of 1, and so on. Output the user, total emails, and their activity rank. Order records by the total emails in descending order. Sort users with the same number of emails in alphabetical order.\n",
    "In your rankings, return a unique value (i.e., a unique rank) even if multiple users have the same number of emails. For tie breaker use alphabetical order of the user usernames.\n"
   ]
  },
  {
   "cell_type": "code",
   "execution_count": null,
   "metadata": {},
   "outputs": [],
   "source": [
    "import pandas as pd\n",
    "\n",
    "gmails = (\n",
    "    google_gmail_emails.groupby(\"from_user\")\n",
    "    .size()\n",
    "    .to_frame(\"total_emails\")\n",
    "    .reset_index()\n",
    "    .sort_values(by = [\"total_emails\", \"from_user\"], ascending = [False, True] )\n",
    "    )\n",
    "    \n",
    "gmails[\"ranks\"] = gmails[\"total_emails\"].rank(method = \"first\", ascending=False)\n",
    "\n",
    "return gmails"
   ]
  },
  {
   "cell_type": "markdown",
   "metadata": {},
   "source": [
    "Distances Traveled\n",
    "\n",
    "https://platform.stratascratch.com/coding/10324-distances-traveled?code_type=2\n",
    "\n",
    "Interview Question Date: December 2020\n",
    "\n",
    "Find the top 10 users that have traveled the greatest distance. Output their id, name and a total distance traveled."
   ]
  },
  {
   "cell_type": "code",
   "execution_count": null,
   "metadata": {},
   "outputs": [],
   "source": [
    "# Import your libraries\n",
    "import pandas as pd\n",
    "\n",
    "lyft_rides = pd.merge(\n",
    "    lyft_rides_log, lyft_users.rename(columns = {'id':\"user_id\"}),\n",
    "    how = \"left\", on = \"user_id\"\n",
    "    )\n",
    "\n",
    "# output: id, name and a total distance \n",
    "lyft_rides = (\n",
    "    lyft_rides.groupby([\"user_id\", \"name\"])[\"distance\"]\n",
    "    .sum()\n",
    "    .to_frame(\"total_distance\")\n",
    "    .reset_index()\n",
    "    .sort_values('total_distance', ascending = False)\n",
    "    .head(10)\n",
    "    )\n"
   ]
  },
  {
   "cell_type": "markdown",
   "metadata": {},
   "source": [
    "Employees With Same Birth Month\n",
    "\n",
    "https://platform.stratascratch.com/coding/10355-employees-with-same-birth-month?code_type=2&utm_source=newsletter&utm_medium=click&utm_campaign=011624+sql+question\n",
    "\n",
    "Interview Question Date: May 2023\n",
    "Block\n",
    "Hard\n",
    "\n",
    "Identify the number of employees within each department that share the same birth month. Your output should list the department, birth month, and the number of employees from that department who were born in that month. If a month has no employees born in it within a specific department, report this month as having 0 employees."
   ]
  },
  {
   "cell_type": "code",
   "execution_count": null,
   "metadata": {},
   "outputs": [],
   "source": [
    "# Import your libraries\n",
    "import pandas as pd\n",
    "\n",
    "birthdays = (\n",
    "    employee_list.groupby(['profession', 'birth_month'])\n",
    "    .size()\n",
    "    .reset_index(name = \"total\")\n",
    "    .pivot_table(index = 'profession', columns = 'birth_month', values = 'total', fill_value = 0 )\n",
    "    .reset_index()\n",
    "    )\n",
    "\n",
    "birthdays.columns = ['department'] + [f'Month_{month}' for month in range(1, 13)]\n",
    "\n",
    "birthdays\n"
   ]
  },
  {
   "cell_type": "code",
   "execution_count": null,
   "metadata": {
    "vscode": {
     "languageId": "sql"
    }
   },
   "outputs": [],
   "source": [
    "# Oracle\n",
    "SELECT PROFESSION as department,\n",
    "    SUM( CASE WHEN BIRTH_MONTH = 1 THEN 1 ELSE 0 END ) as Jan,\n",
    "    SUM( CASE WHEN BIRTH_MONTH = 2 THEN 1 ELSE 0 END ) as Feb,\n",
    "    SUM( CASE WHEN BIRTH_MONTH = 3 THEN 1 ELSE 0 END ) as Mar,\n",
    "    SUM( CASE WHEN BIRTH_MONTH = 4 THEN 1 ELSE 0 END ) as Apr,\n",
    "    SUM( CASE WHEN BIRTH_MONTH = 5 THEN 1 ELSE 0 END ) as May,\n",
    "    SUM( CASE WHEN BIRTH_MONTH = 6 THEN 1 ELSE 0 END ) as Jun,\n",
    "    SUM( CASE WHEN BIRTH_MONTH = 7 THEN 1 ELSE 0 END ) as Jul,\n",
    "    SUM( CASE WHEN BIRTH_MONTH = 8 THEN 1 ELSE 0 END ) as Aug,\n",
    "    SUM( CASE WHEN BIRTH_MONTH = 9 THEN 1 ELSE 0 END ) as Sep,\n",
    "    SUM( CASE WHEN BIRTH_MONTH = 10 THEN 1 ELSE 0 END ) as Oct,\n",
    "    SUM( CASE WHEN BIRTH_MONTH = 11 THEN 1 ELSE 0 END ) as Nov,\n",
    "    SUM( CASE WHEN BIRTH_MONTH = 12 THEN 1 ELSE 0 END ) as Dec\n",
    "FROM employee_list\n",
    "GROUP BY    PROFESSION\n",
    "ORDER BY    PROFESSION\n",
    "     \n"
   ]
  },
  {
   "cell_type": "markdown",
   "metadata": {},
   "source": []
  },
  {
   "cell_type": "code",
   "execution_count": null,
   "metadata": {},
   "outputs": [],
   "source": []
  }
 ],
 "metadata": {
  "language_info": {
   "name": "python"
  },
  "orig_nbformat": 4
 },
 "nbformat": 4,
 "nbformat_minor": 2
}
